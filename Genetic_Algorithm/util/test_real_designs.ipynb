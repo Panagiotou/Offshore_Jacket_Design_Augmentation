{
 "cells": [
  {
   "cell_type": "code",
   "execution_count": 1,
   "id": "f914ae5a",
   "metadata": {},
   "outputs": [
    {
     "name": "stdout",
     "output_type": "stream",
     "text": [
      "{'NONE': 0, 'H': 1, 'Z': 2, 'IZ': 3, 'ZH': 4, 'IZH': 5, 'K': 6, 'X': 7, 'XH': 8}\n",
      "Dropped brace5 because of 0 var\n",
      "Dropped layer_height4 because of 0 var\n",
      "FAMD detected categorical columns Index(['legs', 'n_layers', 'brace0', 'brace1', 'brace2', 'brace3', 'brace4'], dtype='object')\n",
      "FAMD detected continuous columns Index(['total_height', 'radius_bottom', 'radius_top', 'layer_height0',\n",
      "       'layer_height1', 'layer_height2', 'layer_height3'],\n",
      "      dtype='object')\n",
      "FAMD detected categorical columns Index(['legs', 'n_layers', 'brace0', 'brace1', 'brace2', 'brace3', 'brace4'], dtype='object')\n",
      "FAMD detected continuous columns Index(['total_height', 'radius_bottom', 'radius_top', 'layer_height0',\n",
      "       'layer_height1', 'layer_height2', 'layer_height3'],\n",
      "      dtype='object')\n",
      "MCA PROCESS ELIMINATED 5  COLUMNS SINCE THEIR MISS_RATES >= 99%\n"
     ]
    },
    {
     "name": "stderr",
     "output_type": "stream",
     "text": [
      "/home/panagiotou/Desktop/Kallikrates/venv/lib/python3.10/site-packages/sklearn/preprocessing/_encoders.py:868: FutureWarning: `sparse` was renamed to `sparse_output` in version 1.2 and will be removed in 1.4. `sparse_output` is ignored unless you leave `sparse` to its default value.\n",
      "  warnings.warn(\n"
     ]
    }
   ],
   "source": [
    "import sys\n",
    "import json\n",
    "import numpy as np\n",
    "import pandas as pd\n",
    "\n",
    "sys.path.append(\"..\")\n",
    "\n",
    "from graphstructure.simple_substructure import SubstructureSimple\n",
    "from graphstructure.metrics import MetricFunction, REAL_LIFE_LOADS"
   ]
  },
  {
   "cell_type": "code",
   "execution_count": 2,
   "id": "14f4a6ac",
   "metadata": {},
   "outputs": [
    {
     "name": "stdout",
     "output_type": "stream",
     "text": [
      "Running with objectives: ['Cost', 'wave', 'combined', 'compression', 'tipover', 'torque']\n"
     ]
    }
   ],
   "source": [
    "metrics = MetricFunction.from_loads(REAL_LIFE_LOADS)"
   ]
  },
  {
   "cell_type": "code",
   "execution_count": 3,
   "id": "dfe6a4fd",
   "metadata": {},
   "outputs": [],
   "source": [
    "import math\n",
    "def test_all(designs):\n",
    "    objs = [] \n",
    "    for d in designs:\n",
    "        sub = SubstructureSimple.from_dict(d)\n",
    "        obj_values = np.array(metrics(sub)[0])\n",
    "        if any([math.isinf(x) for x in obj_values]):\n",
    "            print('This design cant be tested skipping:', d)\n",
    "            continue\n",
    "            # print('This design cant be tested in ops and thus got scores of 0.0:', d)\n",
    "            # obj_values[np.where(obj_values == 0.0)] = np.inf\n",
    "        objs.append(obj_values)\n",
    "    return objs"
   ]
  },
  {
   "cell_type": "code",
   "execution_count": 4,
   "id": "af274239",
   "metadata": {},
   "outputs": [],
   "source": [
    "def to_df(objs):\n",
    "    # print(metrics.metric_names)\n",
    "    return pd.DataFrame(objs, columns=metrics.metric_names)"
   ]
  },
  {
   "attachments": {},
   "cell_type": "markdown",
   "id": "f39a8127",
   "metadata": {},
   "source": [
    "## Load real structures"
   ]
  },
  {
   "cell_type": "code",
   "execution_count": 5,
   "id": "cd18bdec",
   "metadata": {},
   "outputs": [],
   "source": [
    "real = []\n",
    "\n",
    "with open(\"data/real_structures.json\") as f:\n",
    "    real = json.load(f)\n",
    "\n",
    "synthetic = []\n",
    "synthetic_name = \"data/dgmm(real)_100000.json\"\n",
    "\n",
    "with open(synthetic_name) as f:\n",
    "    synthetic = json.load(f)"
   ]
  },
  {
   "cell_type": "code",
   "execution_count": 6,
   "id": "99bc1ae7",
   "metadata": {},
   "outputs": [],
   "source": [
    "import os\n",
    "def evaluate(designs, file_path):\n",
    "    objs = test_all(designs)\n",
    "    df = to_df(objs)\n",
    "    data_merged = [{**d, **df.loc[i]} for i, d in enumerate(designs)]\n",
    "    filename = os.path.splitext(os.path.basename(file_path))[0]\n",
    "    output_filename = \"data/evaluated/\" + filename +\"_evaluated.json\"\n",
    "    with open(output_filename, \"w\") as json_file:\n",
    "        json.dump(data_merged, json_file, indent=4)\n"
   ]
  },
  {
   "cell_type": "code",
   "execution_count": 7,
   "id": "4071816a",
   "metadata": {},
   "outputs": [
    {
     "name": "stderr",
     "output_type": "stream",
     "text": [
      "WARNING BandSPDLinLapackSolver::solve() -factorization failed, matrix singular U(i,i) = 0, i= 181\n",
      "WARNING Linear::solveCurrentStep() -the LinearSOE failed in solve()\n",
      "StaticAnalysis::analyze() - the Algorithm failed at step: 0 with domain at load factor 1\n",
      "OpenSees > analyze failed, returned: -3 error flag\n",
      "WARNING BandSPDLinLapackSolver::solve() -factorization failed, matrix singular U(i,i) = 0, i= 139\n",
      "WARNING Linear::solveCurrentStep() -the LinearSOE failed in solve()\n",
      "StaticAnalysis::analyze() - the Algorithm failed at step: 0 with domain at load factor 1\n",
      "OpenSees > analyze failed, returned: -3 error flag\n"
     ]
    },
    {
     "name": "stdout",
     "output_type": "stream",
     "text": [
      "This design cant be tested skipping: {'legs': 4, 'total_height': 49.707689071846175, 'connection_types': ['X', 'X', 'X', 'X'], 'radius_bottom': 12.381256018187154, 'radius_top': 7.591941771748563, 'n_layers': 5, 'layer_heights': [11.250962899235754, 27.385499360957976, 34.07044966113509], 'id': 5179}\n"
     ]
    }
   ],
   "source": [
    "evaluate(synthetic, synthetic_name)"
   ]
  },
  {
   "cell_type": "code",
   "execution_count": 8,
   "id": "21959bb8",
   "metadata": {},
   "outputs": [
    {
     "ename": "NameError",
     "evalue": "name 'asdfas' is not defined",
     "output_type": "error",
     "traceback": [
      "\u001b[0;31m---------------------------------------------------------------------------\u001b[0m",
      "\u001b[0;31mNameError\u001b[0m                                 Traceback (most recent call last)",
      "Cell \u001b[0;32mIn[8], line 1\u001b[0m\n\u001b[0;32m----> 1\u001b[0m asdfas\n",
      "\u001b[0;31mNameError\u001b[0m: name 'asdfas' is not defined"
     ]
    }
   ],
   "source": [
    "asdfas"
   ]
  },
  {
   "cell_type": "code",
   "execution_count": null,
   "id": "2dd2852f",
   "metadata": {},
   "outputs": [],
   "source": [
    "# for des in synthetic:\n",
    "#     SubstructureSimple.from_dict(des).plot(rotation=30)"
   ]
  },
  {
   "cell_type": "code",
   "execution_count": null,
   "id": "5b3bf32e",
   "metadata": {},
   "outputs": [],
   "source": [
    "# SubstructureSimple.from_dict(synthetic[-1]).plot(rotation=30)"
   ]
  },
  {
   "cell_type": "code",
   "execution_count": null,
   "id": "ba698aaa",
   "metadata": {},
   "outputs": [],
   "source": [
    "objs_synthetic = test_all(synthetic)\n",
    "df_synthetic = to_df(objs_synthetic)\n",
    "df_synthetic"
   ]
  },
  {
   "cell_type": "code",
   "execution_count": null,
   "id": "7d4c6829",
   "metadata": {},
   "outputs": [],
   "source": [
    "output_filename = \"synthetic.json\"\n",
    "synthetic_merged = [{**d, **df_synthetic.loc[i]} for i, d in enumerate(synthetic)]\n",
    "with open(output_filename, \"w\") as json_file:\n",
    "    json.dump(synthetic_merged, json_file, indent=4)"
   ]
  },
  {
   "cell_type": "code",
   "execution_count": null,
   "id": "cc914ef2",
   "metadata": {},
   "outputs": [],
   "source": [
    "import plotly.express as px\n",
    "df_real['source'] = \"real\"\n",
    "df_synthetic['source'] = \"generated\"\n",
    "df_real['source_n'] = 1\n",
    "df_synthetic['source_n'] = 2\n",
    "df_mixed = pd.concat([\n",
    "    df_real, df_synthetic\n",
    "])\n",
    "df_mixed.index = list(range(len(df_mixed)))\n",
    "fig = px.parallel_coordinates(df_mixed, color=\"source_n\", color_continuous_scale=px.colors.diverging.Tealrose)\n",
    "fig.show()"
   ]
  },
  {
   "attachments": {},
   "cell_type": "markdown",
   "id": "bd838244",
   "metadata": {},
   "source": [
    "## Load generated structures"
   ]
  },
  {
   "cell_type": "code",
   "execution_count": null,
   "id": "c9b37401",
   "metadata": {
    "scrolled": true
   },
   "outputs": [],
   "source": [
    "designs = []\n",
    "with open(\"bigrunnew.json\") as f:\n",
    "    designs = json.load(f)\n",
    "    \n",
    "objs_gen = test_all(designs)\n",
    "df_gen = to_df(objs_gen)"
   ]
  },
  {
   "cell_type": "code",
   "execution_count": null,
   "id": "96821a95",
   "metadata": {},
   "outputs": [],
   "source": [
    "print(df_gen.shape)\n",
    "df_designs = pd.DataFrame(designs)\n",
    "print(df_gen.max())\n",
    "both = pd.concat([df_designs, df_gen], axis = 1)\n",
    "\n",
    "with open(\"optimal_collection_2023-01-17_10-27-57.json\", \"w\") as f:\n",
    "    json.dump(both.to_json(), f)"
   ]
  },
  {
   "cell_type": "code",
   "execution_count": null,
   "id": "00ecbbf2",
   "metadata": {
    "scrolled": false
   },
   "outputs": [],
   "source": [
    "fig = px.parallel_coordinates(df_gen)\n",
    "fig.show()"
   ]
  },
  {
   "attachments": {},
   "cell_type": "markdown",
   "id": "fc047d59",
   "metadata": {},
   "source": [
    "## Cluster the generated data"
   ]
  },
  {
   "cell_type": "code",
   "execution_count": null,
   "id": "a190e21f",
   "metadata": {},
   "outputs": [],
   "source": [
    "from graphstructure.app_interface import cluster_means\n",
    "\n",
    "objs_gen = np.array(objs_gen)\n",
    "objs_gen = objs_gen[np.isfinite(objs_gen).all(axis=1)]\n",
    "cluster_centers = cluster_means(objs_gen, n=10)\n",
    "df_gen_clusters = to_df(cluster_centers)"
   ]
  },
  {
   "attachments": {},
   "cell_type": "markdown",
   "id": "7d180c01",
   "metadata": {},
   "source": [
    "## Compare real vs generated"
   ]
  },
  {
   "cell_type": "code",
   "execution_count": null,
   "id": "9eaa31ff",
   "metadata": {},
   "outputs": [],
   "source": [
    "styles = {\"Titles\": {'legs': 'Number of legs', 'total_height': 'Total height', 'radius_bottom': 'Radius bottom', 'radius_top': 'Radius top', 'n_layers': 'Number of layers', 'brace0': 'Brace type (first layer)', 'brace1': 'Brace type (second layer)', 'brace2': 'Brace type (third layer)', 'brace3': 'Brace type (forth layer)', 'brace4': 'Brace type (fifth layer)', 'layer_height0': 'First layer height', 'layer_height1': 'Second layer height', 'layer_height2': 'Third layer height', 'layer_height3': 'Forth layer height'},\n",
    "            \"Objectives\": {'Cost': 'Cost', 'plausibility': 'Plausibility', 'wave': 'Wave test', 'compression': 'Compression test', 'tipover': 'Pushover test', 'torque': 'Tortion test', 'combined': 'Combined test'},\n",
    "            \"Colors\": {'Cost': 'rgb(31, 119, 180)', 'plausibility': 'rgb(255, 127, 14)', 'wave': 'rgb(44, 160, 44)', 'compression': 'rgb(214, 39, 40)', 'tipover': 'rgb(148, 103, 189)', 'torque': 'rgb(140, 86, 75)', 'real': 'rgba(255, 180, 180, 0.1)', 'generated': 'rgba(200, 200, 200, 0.1)', 'generated_clusters': 'rgba(0, 0, 0, 1.0)'},\n",
    "            \"Thickness\": {'real': 1, 'generated': 1, 'generated_clusters': 4}}\n",
    "# THESE ARE CLOSER TO THE COLORS IN THE STATISTICS PLOT\n",
    "#styles[\"Colors\"] |= {'real': 'rgb(90, 190, 240)', 'generated': 'rgb(255, 200, 90)', 'generated_clusters': 'rgb(140, 60, 0)'}"
   ]
  },
  {
   "cell_type": "code",
   "execution_count": null,
   "id": "79b38fe1",
   "metadata": {},
   "outputs": [],
   "source": [
    "import plotly.graph_objects as go\n",
    "\n",
    "# comment away whatever you dont want to see in the plot\n",
    "# entries with\n",
    "# key: name of trace\n",
    "# value: dict(plot_order, df, color) (colors are set after this)\n",
    "sources = {\n",
    "    \"real\":               {\"plot_order\": 1, \"df\": df_real}, \n",
    "    \"generated\":          {\"plot_order\": 0, \"df\": df_gen},\n",
    "    \"generated_clusters\": {\"plot_order\": 2, \"df\": df_gen_clusters},\n",
    "}\n",
    "\n",
    "# add color for the traces\n",
    "for k, v in sources.items():\n",
    "    v[\"color\"] = styles[\"Colors\"][k]\n",
    "\n",
    "for source, v in sources.items():\n",
    "    v[\"df\"][\"source\"] = source\n",
    "    v[\"df\"][\"source_n\"] = v[\"plot_order\"]\n",
    "\n",
    "df_mixed = pd.concat([x[\"df\"] for _, x in sources.items()])\n",
    "df_mixed.index = list(range(len(df_mixed)))\n",
    "\n",
    "dims = []\n",
    "obj_order = [\"compression\", \"tipover\", \"torque\", \"wave\", \"combined\", \"Cost\", \"plausibility\"]\n",
    "for name in obj_order:\n",
    "    dct = dict(label=styles[\"Objectives\"][name], values=df_mixed[name])\n",
    "    dims.append(dct)\n",
    "    \n",
    "prios = [x[\"plot_order\"] for x in sources.values()]\n",
    "min_, max_ = min(prios), max(prios)    \n",
    "\n",
    "colorscale = []\n",
    "for source, dct in sorted(sources.items(), key=lambda x: x[1][\"plot_order\"]):\n",
    "    colorscale.append([(dct[\"plot_order\"]-min_)/max_, dct[\"color\"]])\n",
    "\n",
    "fig = go.Figure(data=\n",
    "    go.Parcoords(\n",
    "        labelfont = dict(size=16), # Objective names font\n",
    "        rangefont = dict(size=12), # min max values font\n",
    "        tickfont = dict(size=10), # interpolated values font\n",
    "        line = dict(color=df_mixed['source_n'],\n",
    "                    colorscale=colorscale),\n",
    "        dimensions = dims\n",
    "    )\n",
    ")\n",
    "\n",
    "fig.show()"
   ]
  },
  {
   "cell_type": "code",
   "execution_count": null,
   "id": "cf19ac20",
   "metadata": {
    "scrolled": false
   },
   "outputs": [],
   "source": [
    "# Show plots of structures closest to the cluster centers\n",
    "\n",
    "%matplotlib notebook\n",
    "import numpy as np\n",
    "obs = np.array(objs_gen)\n",
    "for centroid in cluster_centers:\n",
    "    dists = np.linalg.norm(obs - centroid, axis=1)\n",
    "    idx = np.argmin(dists)\n",
    "    SubstructureSimple.from_dict(designs[idx]).plot()"
   ]
  }
 ],
 "metadata": {
  "kernelspec": {
   "display_name": "Python 3 (ipykernel)",
   "language": "python",
   "name": "python3"
  },
  "language_info": {
   "codemirror_mode": {
    "name": "ipython",
    "version": 3
   },
   "file_extension": ".py",
   "mimetype": "text/x-python",
   "name": "python",
   "nbconvert_exporter": "python",
   "pygments_lexer": "ipython3",
   "version": "3.10.7"
  },
  "vscode": {
   "interpreter": {
    "hash": "04310be0a2360f9faf748071eb3df6f9124d462a95d54515bae6b3425ab07e38"
   }
  }
 },
 "nbformat": 4,
 "nbformat_minor": 5
}
