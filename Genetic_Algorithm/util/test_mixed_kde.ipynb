{
 "cells": [
  {
   "cell_type": "code",
   "execution_count": 1,
   "metadata": {},
   "outputs": [],
   "source": [
    "import sys\n",
    "sys.path.append(\"..\")\n",
    "from pathlib import Path\n",
    "from statsmodels.nonparametric.kernel_density import KDEMultivariate\n",
    "from statsmodels.nonparametric._kernel_base import gpke, _adjust_shape\n",
    "from graphstructure.simple_substructure import SubstructureSimple, ConnectionBraces\n",
    "from graphstructure.sample import SimpleConstraints\n",
    "import json\n",
    "import numpy as np \n",
    "import pandas as pd\n",
    "import matplotlib.pyplot as plt\n",
    "import seaborn as sns"
   ]
  },
  {
   "cell_type": "code",
   "execution_count": 4,
   "metadata": {},
   "outputs": [],
   "source": [
    "class MixedKDE():\n",
    "    def __init__(self) -> None:\n",
    "        c = SimpleConstraints()\n",
    "        self.brace_dict = ConnectionBraces.ordered_dict()\n",
    "        self.N_BRACES = len(self.brace_dict)\n",
    "        # the real structures are stored outside of the graphstructure package\n",
    "        # with open(Path(__file__).parent.parent / \"util/real_structures.json\") as f:\n",
    "        with open(\"real_structures.json\") as f:\n",
    "            real = json.load(f)\n",
    "\n",
    "        self.max_layers = max([d[\"n_layers\"] for d in real])\n",
    "\n",
    "        encodings_real = [self.encode(d) for d in real]\n",
    "        X = np.array(encodings_real)\n",
    "\n",
    "        df = pd.DataFrame(X, columns=self.transformed_columns)\n",
    "        self.instance_df = pd.DataFrame(columns=self.transformed_columns)\n",
    "        self.continuous = [\"total_height\", \"radius_bottom\", \"radius_top\"] + [\"layer_height{}\".format(i) for i in range(self.max_layers-2)]\n",
    "        self.ordered = [\"legs\", \"n_layers\"]\n",
    "        self.unordered = [\"brace{}\".format(i) for i in range(self.max_layers-1)] \n",
    "\n",
    "        self.var_type = self.get_str_list()\n",
    "        self.k_vars = len(self.var_type)\n",
    "\n",
    "        # continuous_idx = [df.columns.get_loc(x) for x in continuous]\n",
    "        # from sklearn.compose import ColumnTransformer\n",
    "        # from sklearn.preprocessing import StandardScaler\n",
    "        # self.ct = ColumnTransformer(\n",
    "        #     transformers=[(\"scaler\", StandardScaler(), continuous)],\n",
    "        #     remainder='passthrough',\n",
    "        # )\n",
    "        # data_trans = self.ct.fit_transform(df)\n",
    "        # self.transformed_training_data = data_trans.copy()\n",
    "        # self.clf = SVC(kernel=\"linear\", C=1, gamma=0.001)\n",
    "        print(\"Mixed KDE\")\n",
    "        self.clf = KDEMultivariate(df, self.var_type)\n",
    "        print(self.clf.__repr__())\n",
    "        # pdf_values = self.clf.pdf(df)\n",
    "        # log_likelihoods = np.log(pdf_values)\n",
    "        # sns.displot(log_likelihoods)\n",
    "        # self.clf.fit(data_trans)\n",
    "\n",
    "    def get_str_list(self):\n",
    "        # Create a list where each character corresponds to a variable type\n",
    "        result_list = []\n",
    "\n",
    "        for column in self.transformed_columns:\n",
    "            if column in self.continuous:\n",
    "                result_list.append(\"c\")\n",
    "            elif column in self.ordered:\n",
    "                result_list.append(\"o\")\n",
    "            elif column in self.unordered:\n",
    "                result_list.append(\"u\")\n",
    "            else:\n",
    "                # Handle the case where the column doesn't match any type\n",
    "                result_list.append(\"?\")\n",
    "\n",
    "        result_string = \"\".join(result_list)\n",
    "        return result_string\n",
    "\n",
    "    # from https://stackoverflow.com/questions/38592324/one-hot-encoding-using-numpy\n",
    "    def get_one_hot(self, targets, nb_classes):\n",
    "        res = np.eye(nb_classes)[np.array(targets).reshape(-1)]\n",
    "        return res.reshape(list(targets.shape)+[nb_classes])\n",
    "    def encode(self, d, one_hot=False, native=False):\n",
    "        basics = [d[\"legs\"], d[\"total_height\"], d[\"radius_bottom\"], d[\"radius_top\"], d[\"n_layers\"]]\n",
    "\n",
    "        # fill design's braces according to max_layers with dummies (\"NONE\")\n",
    "        braces = d[\"connection_types\"]\n",
    "        if native:\n",
    "            braces = np.array([b for b in braces] + [\"NONE\"] * (self.max_layers - 1 - len(braces)))\n",
    "        else:\n",
    "            braces = np.array([self.brace_dict[b] for b in braces] + [self.brace_dict[\"NONE\"]] * (self.max_layers - 1 - len(braces)))\n",
    "            if one_hot:\n",
    "                braces = self.get_one_hot(braces, self.N_BRACES)\n",
    "\n",
    "        # fill design's layer_heights according to max_layers with dummies\n",
    "        layer_heights = d[\"layer_heights\"]\n",
    "        layer_heights = np.array(layer_heights + [d[\"total_height\"]] * (self.max_layers - 2 - len(layer_heights))) / d[\"total_height\"]\n",
    "        self.transformed_columns = [\"legs\", \"total_height\", \"radius_bottom\", \"radius_top\", \"n_layers\"] + [\"brace\" + str(i) for i in range(len(braces.flatten()))] + [\"layer_height\" + str(i) for i in range(len(layer_heights))]\n",
    "\n",
    "        to_return = np.array([*basics, *braces.flatten(), *layer_heights])\n",
    "        # return a flat encoding\n",
    "\n",
    "        return to_return"
   ]
  },
  {
   "cell_type": "code",
   "execution_count": 5,
   "metadata": {},
   "outputs": [
    {
     "name": "stdout",
     "output_type": "stream",
     "text": [
      "Mixed KDE\n",
      "KDE instance\n",
      "Number of variables: k_vars = 14\n",
      "Number of samples:   nobs = 100\n",
      "Variable types:      occcouuuuucccc\n",
      "BW selection method: normal_reference\n",
      "\n"
     ]
    },
    {
     "name": "stderr",
     "output_type": "stream",
     "text": [
      "/tmp/ipykernel_1644737/1654825769.py:39: RuntimeWarning: invalid value encountered in log\n",
      "  log_likelihoods = np.log(pdf_values)\n",
      "/home/luser/Kallikrates/venv/lib/python3.10/site-packages/seaborn/_oldcore.py:1498: FutureWarning: is_categorical_dtype is deprecated and will be removed in a future version. Use isinstance(dtype, CategoricalDtype) instead\n",
      "  if pd.api.types.is_categorical_dtype(vector):\n",
      "/home/luser/Kallikrates/venv/lib/python3.10/site-packages/seaborn/_oldcore.py:1119: FutureWarning: use_inf_as_na option is deprecated and will be removed in a future version. Convert inf values to NaN before operating instead.\n",
      "  with pd.option_context('mode.use_inf_as_na', True):\n"
     ]
    },
    {
     "data": {
      "image/png": "[encoded data removed]",
      "text/plain": [
       "<Figure size 500x500 with 1 Axes>"
      ]
     },
     "metadata": {},
     "output_type": "display_data"
    }
   ],
   "source": [
    "mkde = MixedKDE()"
   ]
  },
  {
   "cell_type": "code",
   "execution_count": null,
   "metadata": {},
   "outputs": [],
   "source": []
  }
 ],
 "metadata": {
  "kernelspec": {
   "display_name": "venv",
   "language": "python",
   "name": "python3"
  },
  "language_info": {
   "codemirror_mode": {
    "name": "ipython",
    "version": 3
   },
   "file_extension": ".py",
   "mimetype": "text/x-python",
   "name": "python",
   "nbconvert_exporter": "python",
   "pygments_lexer": "ipython3",
   "version": "3.10.12"
  }
 },
 "nbformat": 4,
 "nbformat_minor": 2
}
