{
 "cells": [
  {
   "cell_type": "code",
   "execution_count": null,
   "metadata": {},
   "outputs": [],
   "source": [
    "import sys\n",
    "sys.path.append(\"..\")\n",
    "from pathlib import Path\n",
    "from statsmodels.nonparametric.kernel_density import KDEMultivariate\n",
    "from statsmodels.nonparametric._kernel_base import gpke, _adjust_shape\n",
    "from graphstructure.simple_substructure import SubstructureSimple, ConnectionBraces\n",
    "from graphstructure.sample import SimpleConstraints\n",
    "import json\n",
    "import numpy as np \n",
    "import pandas as pd\n",
    "import matplotlib.pyplot as plt\n",
    "import seaborn as sns\n",
    "\n",
    "from isolation_forest.learn.isolation_forest import IsolationForest \n",
    "from sklearn.ensemble import IsolationForest as SKLearnIsolationForest"
   ]
  },
  {
   "cell_type": "code",
   "execution_count": null,
   "metadata": {},
   "outputs": [],
   "source": [
    "class MixedIsolationForest():\n",
    "    def __init__(self) -> None:\n",
    "        c = SimpleConstraints()\n",
    "        self.brace_dict = ConnectionBraces.ordered_dict()\n",
    "        self.N_BRACES = len(self.brace_dict)\n",
    "        # the real structures are stored outside of the graphstructure package\n",
    "        # with open(Path(__file__).parent.parent / \"util/real_structures.json\") as f:\n",
    "        with open(\"real_structures.json\") as f:\n",
    "            real = json.load(f)\n",
    "\n",
    "        self.max_layers = max([d[\"n_layers\"] for d in real])\n",
    "\n",
    "        encodings_real = [self.encode(d, one_hot=True) for d in real]\n",
    "        X = np.array(encodings_real)\n",
    "\n",
    "        self.df = pd.DataFrame(X, columns=self.transformed_columns)\n",
    "        # self.instance_df = pd.DataFrame(columns=self.transformed_columns)\n",
    "        # self.continuous = [\"total_height\", \"radius_bottom\", \"radius_top\"] + [\"layer_height{}\".format(i) for i in range(self.max_layers-2)]\n",
    "        # self.ordered = [\"legs\", \"n_layers\"]\n",
    "        # self.unordered = [\"brace{}\".format(i) for i in range(self.max_layers-1)] \n",
    "\n",
    "        print(\"Mixed Isolation Forest\")\n",
    "        # self.clf = IsolationForest(n_estimators=100, max_samples=256, n_jobs=11)\n",
    "        self.clf1 = SKLearnIsolationForest(n_estimators=100, max_samples=100, n_jobs=11)\n",
    "        self.clf = IsolationForest(n_estimators=100, max_samples=100, n_jobs=11)\n",
    "\n",
    "        self.clf.fit(self.df)\n",
    "        self.clf1.fit(self.df)\n",
    "        # scores = np.array(self.clf.score_samples(df))\n",
    "        # scores_1 = np.array(-1*self.clf1.score_samples(df))\n",
    "        # sns.displot(scores_1)\n",
    "        # sns.displot(scores)\n",
    "        # pdf_values = self.clf.pdf(df)\n",
    "        # log_likelihoods = np.log(pdf_values)\n",
    "        # sns.displot(log_likelihoods)\n",
    "        # self.clf.fit(data_trans)\n",
    "    def score_sk(self):\n",
    "        return(np.array(self.clf1.score_samples(self.df)))\n",
    "    def score(self):\n",
    "        return(np.array(self.clf.score_samples(self.df)))\n",
    "\n",
    "    # from https://stackoverflow.com/questions/38592324/one-hot-encoding-using-numpy\n",
    "    def get_one_hot(self, targets, nb_classes):\n",
    "        res = np.eye(nb_classes)[np.array(targets).reshape(-1)]\n",
    "        return res.reshape(list(targets.shape)+[nb_classes])\n",
    "    def encode(self, d, one_hot=True, native=False):\n",
    "        basics = [d[\"legs\"], d[\"total_height\"], d[\"radius_bottom\"], d[\"radius_top\"], d[\"n_layers\"]]\n",
    "\n",
    "        # fill design's braces according to max_layers with dummies (\"NONE\")\n",
    "        braces = d[\"connection_types\"]\n",
    "        if native:\n",
    "            braces = np.array([b for b in braces] + [\"NONE\"] * (self.max_layers - 1 - len(braces)))\n",
    "        else:\n",
    "            braces = np.array([self.brace_dict[b] for b in braces] + [self.brace_dict[\"NONE\"]] * (self.max_layers - 1 - len(braces)))\n",
    "            if one_hot:\n",
    "                braces = self.get_one_hot(braces, self.N_BRACES)\n",
    "\n",
    "        # fill design's layer_heights according to max_layers with dummies\n",
    "        layer_heights = d[\"layer_heights\"]\n",
    "        layer_heights = np.array(layer_heights + [d[\"total_height\"]] * (self.max_layers - 2 - len(layer_heights))) / d[\"total_height\"]\n",
    "        self.transformed_columns = [\"legs\", \"total_height\", \"radius_bottom\", \"radius_top\", \"n_layers\"] + [\"brace\" + str(i) for i in range(len(braces.flatten()))] + [\"layer_height\" + str(i) for i in range(len(layer_heights))]\n",
    "\n",
    "        to_return = np.array([*basics, *braces.flatten(), *layer_heights])\n",
    "        # return a flat encoding\n",
    "\n",
    "        return to_return"
   ]
  },
  {
   "cell_type": "code",
   "execution_count": null,
   "metadata": {},
   "outputs": [],
   "source": [
    "mif = MixedIsolationForest()"
   ]
  },
  {
   "cell_type": "code",
   "execution_count": null,
   "metadata": {},
   "outputs": [],
   "source": [
    "sns.displot(-1*mif.score_sk())"
   ]
  },
  {
   "cell_type": "code",
   "execution_count": null,
   "metadata": {},
   "outputs": [],
   "source": [
    "sns.displot(mif.score())"
   ]
  }
 ],
 "metadata": {
  "kernelspec": {
   "display_name": "venv",
   "language": "python",
   "name": "python3"
  },
  "language_info": {
   "codemirror_mode": {
    "name": "ipython",
    "version": 3
   },
   "file_extension": ".py",
   "mimetype": "text/x-python",
   "name": "python",
   "nbconvert_exporter": "python",
   "pygments_lexer": "ipython3",
   "version": "3.10.12"
  }
 },
 "nbformat": 4,
 "nbformat_minor": 2
}
