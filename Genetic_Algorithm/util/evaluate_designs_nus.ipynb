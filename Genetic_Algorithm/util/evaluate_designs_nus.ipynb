{
 "cells": [
  {
   "cell_type": "code",
   "execution_count": 1,
   "id": "f914ae5a",
   "metadata": {},
   "outputs": [],
   "source": [
    "import sys\n",
    "import json\n",
    "import numpy as np\n",
    "import pandas as pd\n",
    "\n",
    "sys.path.append(\"..\")\n",
    "\n",
    "from graphstructure.simple_substructure import SubstructureSimple\n",
    "from graphstructure.metrics import MetricFunction, REAL_LIFE_LOADS"
   ]
  },
  {
   "cell_type": "code",
   "execution_count": 2,
   "id": "14f4a6ac",
   "metadata": {},
   "outputs": [],
   "source": [
    "REAL_LIFE_LOADS[\"plausibility\"] = [\"FAMD GMM\", \"FAMD Mahalanobis\", \"one class SVM\", \"FAMD one class SVM\", \"kde\",\n",
    " \"isolation forest\", \"local outlier factor\"]  \n",
    "\n",
    "REAL_LIFE_LOADS[\"plausibility\"] = [\"one class SVM\"]          \n",
    "nus = [0.25, 0.75, 0.9]"
   ]
  },
  {
   "cell_type": "code",
   "execution_count": 3,
   "id": "dfe6a4fd",
   "metadata": {},
   "outputs": [],
   "source": [
    "import math\n",
    "def test_all(designs, metrics):\n",
    "    objs = [] \n",
    "    evaluated_designs = []\n",
    "    for d in designs:\n",
    "        sub = SubstructureSimple.from_dict(d)\n",
    "        obj_values = np.array(metrics(sub)[0])\n",
    "        if any([math.isinf(x) for x in obj_values]):\n",
    "            print('This design cant be tested skipping:', d)\n",
    "            continue\n",
    "            # print('This design cant be tested in ops and thus got scores of 0.0:', d)\n",
    "            # obj_values[np.where(obj_values == 0.0)] = np.inf\n",
    "        objs.append(obj_values)\n",
    "        evaluated_designs.append(d)\n",
    "    return objs, evaluated_designs"
   ]
  },
  {
   "cell_type": "code",
   "execution_count": 4,
   "id": "af274239",
   "metadata": {},
   "outputs": [],
   "source": [
    "def to_df(objs, metrics, plaus_only=False):\n",
    "    # print(metrics.metric_names)\n",
    "    df_ret = pd.DataFrame(objs, columns=metrics.metric_names)\n",
    "    metric_names_array = np.array(metrics.metric_names)\n",
    "    if plaus_only:\n",
    "        matching_instances = [x for x in metric_names_array if \"one class svm\" in x.lower()][0]\n",
    "        print(matching_instances)\n",
    "        return df_ret[matching_instances]\n",
    "    return df_ret"
   ]
  },
  {
   "cell_type": "code",
   "execution_count": 5,
   "id": "474b8c1c",
   "metadata": {},
   "outputs": [],
   "source": [
    "import os\n",
    "def evaluate(designs, file_path, out_dir, nus):\n",
    "    dfs = []\n",
    "    for nu in nus:\n",
    "        metrics = MetricFunction.from_loads(REAL_LIFE_LOADS, nu=nu)\n",
    "        objs, evaluated_designs = test_all(designs, metrics)\n",
    "        if len(dfs) > 0:\n",
    "            df = to_df(objs, metrics, plaus_only=True)\n",
    "        else:\n",
    "            df = to_df(objs, metrics)\n",
    "        dfs.append(df)\n",
    "    df = pd.concat(dfs, axis=1)\n",
    "    print(df)\n",
    "    data_merged = [{**d, **df.loc[i]} for i, d in enumerate(evaluated_designs)]\n",
    "    filename = os.path.splitext(os.path.basename(file_path))[0]\n",
    "    output_filename = out_dir + filename +\"_evaluated.json\"\n",
    "    with open(output_filename, \"w\") as json_file:\n",
    "        json.dump(data_merged, json_file, indent=4)\n",
    "    print(\"Saved file\", output_filename, \"total designs\", len(evaluated_designs))    "
   ]
  },
  {
   "cell_type": "code",
   "execution_count": 6,
   "id": "1b90a05b",
   "metadata": {},
   "outputs": [
    {
     "name": "stdout",
     "output_type": "stream",
     "text": [
      "One Class SVM gamma=scale nu=0.25\n",
      "Running with objectives: ['Cost', 'plausibility (One Class SVM) gamma=scale nu=0.25', 'wave', 'combined', 'compression', 'tipover', 'torque']\n",
      "One Class SVM gamma=scale nu=0.75\n",
      "Running with objectives: ['Cost', 'plausibility (One Class SVM) gamma=scale nu=0.75', 'wave', 'combined', 'compression', 'tipover', 'torque']\n",
      "plausibility (One Class SVM) gamma=scale nu=0.75\n",
      "One Class SVM gamma=scale nu=1\n"
     ]
    },
    {
     "ename": "ValueError",
     "evalue": "The dual coefficients or intercepts are not finite. The input data may contain large values and need to be preprocessed.",
     "output_type": "error",
     "traceback": [
      "\u001b[0;31m---------------------------------------------------------------------------\u001b[0m",
      "\u001b[0;31mValueError\u001b[0m                                Traceback (most recent call last)",
      "\u001b[1;32m/home/luser/Kallikrates/util/evaluate_designs_nus.ipynb Cell 6\u001b[0m line \u001b[0;36m8\n\u001b[1;32m      <a href='vscode-notebook-cell://ssh-remote%2B137.193.63.134/home/luser/Kallikrates/util/evaluate_designs_nus.ipynb#W5sdnNjb2RlLXJlbW90ZQ%3D%3D?line=5'>6</a>\u001b[0m \u001b[39mwith\u001b[39;00m \u001b[39mopen\u001b[39m(in_dir \u001b[39m+\u001b[39m file_) \u001b[39mas\u001b[39;00m f:\n\u001b[1;32m      <a href='vscode-notebook-cell://ssh-remote%2B137.193.63.134/home/luser/Kallikrates/util/evaluate_designs_nus.ipynb#W5sdnNjb2RlLXJlbW90ZQ%3D%3D?line=6'>7</a>\u001b[0m     synthetic \u001b[39m=\u001b[39m json\u001b[39m.\u001b[39mload(f)\n\u001b[0;32m----> <a href='vscode-notebook-cell://ssh-remote%2B137.193.63.134/home/luser/Kallikrates/util/evaluate_designs_nus.ipynb#W5sdnNjb2RlLXJlbW90ZQ%3D%3D?line=7'>8</a>\u001b[0m     evaluate(synthetic, file_, out_dir, nus)\n",
      "\u001b[1;32m/home/luser/Kallikrates/util/evaluate_designs_nus.ipynb Cell 6\u001b[0m line \u001b[0;36m5\n\u001b[1;32m      <a href='vscode-notebook-cell://ssh-remote%2B137.193.63.134/home/luser/Kallikrates/util/evaluate_designs_nus.ipynb#W5sdnNjb2RlLXJlbW90ZQ%3D%3D?line=2'>3</a>\u001b[0m dfs \u001b[39m=\u001b[39m []\n\u001b[1;32m      <a href='vscode-notebook-cell://ssh-remote%2B137.193.63.134/home/luser/Kallikrates/util/evaluate_designs_nus.ipynb#W5sdnNjb2RlLXJlbW90ZQ%3D%3D?line=3'>4</a>\u001b[0m \u001b[39mfor\u001b[39;00m nu \u001b[39min\u001b[39;00m nus:\n\u001b[0;32m----> <a href='vscode-notebook-cell://ssh-remote%2B137.193.63.134/home/luser/Kallikrates/util/evaluate_designs_nus.ipynb#W5sdnNjb2RlLXJlbW90ZQ%3D%3D?line=4'>5</a>\u001b[0m     metrics \u001b[39m=\u001b[39m MetricFunction\u001b[39m.\u001b[39;49mfrom_loads(REAL_LIFE_LOADS, nu\u001b[39m=\u001b[39;49mnu)\n\u001b[1;32m      <a href='vscode-notebook-cell://ssh-remote%2B137.193.63.134/home/luser/Kallikrates/util/evaluate_designs_nus.ipynb#W5sdnNjb2RlLXJlbW90ZQ%3D%3D?line=5'>6</a>\u001b[0m     objs, evaluated_designs \u001b[39m=\u001b[39m test_all(designs, metrics)\n\u001b[1;32m      <a href='vscode-notebook-cell://ssh-remote%2B137.193.63.134/home/luser/Kallikrates/util/evaluate_designs_nus.ipynb#W5sdnNjb2RlLXJlbW90ZQ%3D%3D?line=6'>7</a>\u001b[0m     \u001b[39mif\u001b[39;00m \u001b[39mlen\u001b[39m(dfs) \u001b[39m>\u001b[39m \u001b[39m0\u001b[39m:\n",
      "File \u001b[0;32m~/Kallikrates/util/../graphstructure/metrics.py:554\u001b[0m, in \u001b[0;36mMetricFunction.from_loads\u001b[0;34m(objectives, n_samples, nu, gamma)\u001b[0m\n\u001b[1;32m    552\u001b[0m \u001b[39mif\u001b[39;00m \u001b[39misinstance\u001b[39m(objectives[\u001b[39m\"\u001b[39m\u001b[39mplausibility\u001b[39m\u001b[39m\"\u001b[39m], \u001b[39mlist\u001b[39m):\n\u001b[1;32m    553\u001b[0m     \u001b[39mfor\u001b[39;00m plaus \u001b[39min\u001b[39;00m objectives[\u001b[39m\"\u001b[39m\u001b[39mplausibility\u001b[39m\u001b[39m\"\u001b[39m]:\n\u001b[0;32m--> 554\u001b[0m         func, name \u001b[39m=\u001b[39m get_plausibility_metric(plaus\u001b[39m.\u001b[39;49mlower(), n_samples\u001b[39m=\u001b[39;49mn_samples, nu\u001b[39m=\u001b[39;49mnu, gamma\u001b[39m=\u001b[39;49mgamma)\n\u001b[1;32m    555\u001b[0m         functions\u001b[39m.\u001b[39mappend(func)\n\u001b[1;32m    556\u001b[0m         objective_names\u001b[39m.\u001b[39mappend(name)\n",
      "File \u001b[0;32m~/Kallikrates/util/../graphstructure/metrics.py:467\u001b[0m, in \u001b[0;36mget_plausibility_metric\u001b[0;34m(metric_name, n_samples, gamma, nu, use_specs)\u001b[0m\n\u001b[1;32m    465\u001b[0m     name \u001b[39m=\u001b[39m \u001b[39m\"\u001b[39m\u001b[39mplausibility (SVM)\u001b[39m\u001b[39m\"\u001b[39m\n\u001b[1;32m    466\u001b[0m \u001b[39melif\u001b[39;00m metric_name \u001b[39m==\u001b[39m \u001b[39m\"\u001b[39m\u001b[39mone class svm\u001b[39m\u001b[39m\"\u001b[39m:\n\u001b[0;32m--> 467\u001b[0m     discriminator_one_class \u001b[39m=\u001b[39m DiscriminatorOneClass(gamma\u001b[39m=\u001b[39;49mgamma, nu\u001b[39m=\u001b[39;49mnu)\n\u001b[1;32m    468\u001b[0m     func \u001b[39m=\u001b[39m \u001b[39mlambda\u001b[39;00m x: plausibility_svm_one_class(x, discriminator_one_class)\n\u001b[1;32m    469\u001b[0m     \u001b[39mif\u001b[39;00m use_specs:\n",
      "File \u001b[0;32m~/Kallikrates/util/../graphstructure/plausibility_metrics.py:313\u001b[0m, in \u001b[0;36mDiscriminatorOneClass.__init__\u001b[0;34m(self, gamma, nu)\u001b[0m\n\u001b[1;32m    311\u001b[0m \u001b[39mprint\u001b[39m(\u001b[39m\"\u001b[39m\u001b[39mOne Class SVM gamma=\u001b[39m\u001b[39m{}\u001b[39;00m\u001b[39m nu=\u001b[39m\u001b[39m{}\u001b[39;00m\u001b[39m\"\u001b[39m\u001b[39m.\u001b[39mformat(\u001b[39mself\u001b[39m\u001b[39m.\u001b[39mgamma, \u001b[39mself\u001b[39m\u001b[39m.\u001b[39mnu))\n\u001b[1;32m    312\u001b[0m \u001b[39mself\u001b[39m\u001b[39m.\u001b[39mclf \u001b[39m=\u001b[39m OneClassSVM(kernel\u001b[39m=\u001b[39m\u001b[39m\"\u001b[39m\u001b[39mrbf\u001b[39m\u001b[39m\"\u001b[39m, gamma\u001b[39m=\u001b[39m\u001b[39mself\u001b[39m\u001b[39m.\u001b[39mgamma, nu\u001b[39m=\u001b[39m\u001b[39mself\u001b[39m\u001b[39m.\u001b[39mnu)\n\u001b[0;32m--> 313\u001b[0m \u001b[39mself\u001b[39;49m\u001b[39m.\u001b[39;49mclf\u001b[39m.\u001b[39;49mfit(data_trans)\n",
      "File \u001b[0;32m~/Kallikrates/venv/lib/python3.10/site-packages/sklearn/svm/_classes.py:1787\u001b[0m, in \u001b[0;36mOneClassSVM.fit\u001b[0;34m(self, X, y, sample_weight)\u001b[0m\n\u001b[1;32m   1762\u001b[0m \u001b[39mdef\u001b[39;00m \u001b[39mfit\u001b[39m(\u001b[39mself\u001b[39m, X, y\u001b[39m=\u001b[39m\u001b[39mNone\u001b[39;00m, sample_weight\u001b[39m=\u001b[39m\u001b[39mNone\u001b[39;00m):\n\u001b[1;32m   1763\u001b[0m \u001b[39m    \u001b[39m\u001b[39m\"\"\"Detect the soft boundary of the set of samples X.\u001b[39;00m\n\u001b[1;32m   1764\u001b[0m \n\u001b[1;32m   1765\u001b[0m \u001b[39m    Parameters\u001b[39;00m\n\u001b[0;32m   (...)\u001b[0m\n\u001b[1;32m   1785\u001b[0m \u001b[39m    If X is not a C-ordered contiguous array it is copied.\u001b[39;00m\n\u001b[1;32m   1786\u001b[0m \u001b[39m    \"\"\"\u001b[39;00m\n\u001b[0;32m-> 1787\u001b[0m     \u001b[39msuper\u001b[39;49m()\u001b[39m.\u001b[39;49mfit(X, np\u001b[39m.\u001b[39;49mones(_num_samples(X)), sample_weight\u001b[39m=\u001b[39;49msample_weight)\n\u001b[1;32m   1788\u001b[0m     \u001b[39mself\u001b[39m\u001b[39m.\u001b[39moffset_ \u001b[39m=\u001b[39m \u001b[39m-\u001b[39m\u001b[39mself\u001b[39m\u001b[39m.\u001b[39m_intercept_\n\u001b[1;32m   1789\u001b[0m     \u001b[39mreturn\u001b[39;00m \u001b[39mself\u001b[39m\n",
      "File \u001b[0;32m~/Kallikrates/venv/lib/python3.10/site-packages/sklearn/base.py:1151\u001b[0m, in \u001b[0;36m_fit_context.<locals>.decorator.<locals>.wrapper\u001b[0;34m(estimator, *args, **kwargs)\u001b[0m\n\u001b[1;32m   1144\u001b[0m     estimator\u001b[39m.\u001b[39m_validate_params()\n\u001b[1;32m   1146\u001b[0m \u001b[39mwith\u001b[39;00m config_context(\n\u001b[1;32m   1147\u001b[0m     skip_parameter_validation\u001b[39m=\u001b[39m(\n\u001b[1;32m   1148\u001b[0m         prefer_skip_nested_validation \u001b[39mor\u001b[39;00m global_skip_validation\n\u001b[1;32m   1149\u001b[0m     )\n\u001b[1;32m   1150\u001b[0m ):\n\u001b[0;32m-> 1151\u001b[0m     \u001b[39mreturn\u001b[39;00m fit_method(estimator, \u001b[39m*\u001b[39;49margs, \u001b[39m*\u001b[39;49m\u001b[39m*\u001b[39;49mkwargs)\n",
      "File \u001b[0;32m~/Kallikrates/venv/lib/python3.10/site-packages/sklearn/svm/_base.py:268\u001b[0m, in \u001b[0;36mBaseLibSVM.fit\u001b[0;34m(self, X, y, sample_weight)\u001b[0m\n\u001b[1;32m    266\u001b[0m dual_coef_finiteness \u001b[39m=\u001b[39m np\u001b[39m.\u001b[39misfinite(dual_coef)\u001b[39m.\u001b[39mall()\n\u001b[1;32m    267\u001b[0m \u001b[39mif\u001b[39;00m \u001b[39mnot\u001b[39;00m (intercept_finiteness \u001b[39mand\u001b[39;00m dual_coef_finiteness):\n\u001b[0;32m--> 268\u001b[0m     \u001b[39mraise\u001b[39;00m \u001b[39mValueError\u001b[39;00m(\n\u001b[1;32m    269\u001b[0m         \u001b[39m\"\u001b[39m\u001b[39mThe dual coefficients or intercepts are not finite.\u001b[39m\u001b[39m\"\u001b[39m\n\u001b[1;32m    270\u001b[0m         \u001b[39m\"\u001b[39m\u001b[39m The input data may contain large values and need to be\u001b[39m\u001b[39m\"\u001b[39m\n\u001b[1;32m    271\u001b[0m         \u001b[39m\"\u001b[39m\u001b[39m preprocessed.\u001b[39m\u001b[39m\"\u001b[39m\n\u001b[1;32m    272\u001b[0m     )\n\u001b[1;32m    274\u001b[0m \u001b[39m# Since, in the case of SVC and NuSVC, the number of models optimized by\u001b[39;00m\n\u001b[1;32m    275\u001b[0m \u001b[39m# libSVM could be greater than one (depending on the input), `n_iter_`\u001b[39;00m\n\u001b[1;32m    276\u001b[0m \u001b[39m# stores an ndarray.\u001b[39;00m\n\u001b[1;32m    277\u001b[0m \u001b[39m# For the other sub-classes (SVR, NuSVR, and OneClassSVM), the number of\u001b[39;00m\n\u001b[1;32m    278\u001b[0m \u001b[39m# models optimized by libSVM is always one, so `n_iter_` stores an\u001b[39;00m\n\u001b[1;32m    279\u001b[0m \u001b[39m# integer.\u001b[39;00m\n\u001b[1;32m    280\u001b[0m \u001b[39mif\u001b[39;00m \u001b[39mself\u001b[39m\u001b[39m.\u001b[39m_impl \u001b[39min\u001b[39;00m [\u001b[39m\"\u001b[39m\u001b[39mc_svc\u001b[39m\u001b[39m\"\u001b[39m, \u001b[39m\"\u001b[39m\u001b[39mnu_svc\u001b[39m\u001b[39m\"\u001b[39m]:\n",
      "\u001b[0;31mValueError\u001b[0m: The dual coefficients or intercepts are not finite. The input data may contain large values and need to be preprocessed."
     ]
    }
   ],
   "source": [
    "out_dir = \"data/evaluated/\"\n",
    "in_dir = \"data/to_evaluate/\"\n",
    "files = os.listdir(in_dir)\n",
    "\n",
    "for file_ in files:\n",
    "    with open(in_dir + file_) as f:\n",
    "        synthetic = json.load(f)\n",
    "        evaluate(synthetic, file_, out_dir, nus)\n"
   ]
  }
 ],
 "metadata": {
  "kernelspec": {
   "display_name": "Python 3 (ipykernel)",
   "language": "python",
   "name": "python3"
  },
  "language_info": {
   "codemirror_mode": {
    "name": "ipython",
    "version": 3
   },
   "file_extension": ".py",
   "mimetype": "text/x-python",
   "name": "python",
   "nbconvert_exporter": "python",
   "pygments_lexer": "ipython3",
   "version": "3.10.12"
  },
  "vscode": {
   "interpreter": {
    "hash": "04310be0a2360f9faf748071eb3df6f9124d462a95d54515bae6b3425ab07e38"
   }
  }
 },
 "nbformat": 4,
 "nbformat_minor": 5
}
