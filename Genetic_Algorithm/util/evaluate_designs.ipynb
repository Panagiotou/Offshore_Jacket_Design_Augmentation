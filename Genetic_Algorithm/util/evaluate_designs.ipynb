{
 "cells": [
  {
   "cell_type": "code",
   "execution_count": 1,
   "id": "f914ae5a",
   "metadata": {},
   "outputs": [],
   "source": [
    "import sys\n",
    "import json\n",
    "import numpy as np\n",
    "import pandas as pd\n",
    "\n",
    "sys.path.append(\"..\")\n",
    "\n",
    "from graphstructure.simple_substructure import SubstructureSimple\n",
    "from graphstructure.metrics import MetricFunction, REAL_LIFE_LOADS"
   ]
  },
  {
   "cell_type": "code",
   "execution_count": 2,
   "id": "14f4a6ac",
   "metadata": {},
   "outputs": [
    {
     "name": "stdout",
     "output_type": "stream",
     "text": [
      "Running with objectives: ['Cost', 'wave', 'combined', 'compression', 'tipover', 'torque']\n"
     ]
    }
   ],
   "source": [
    "REAL_LIFE_LOADS[\"plausibility\"] = [\"FAMD GMM\", \"FAMD Mahalanobis\", \"one class SVM\", \"FAMD one class SVM\", \"kde\",\n",
    " \"isolation forest\", \"local outlier factor\"]  \n",
    "\n",
    "# REAL_LIFE_LOADS[\"plausibility\"] = [\"one class SVM\"]          \n",
    "# NU = 0.5\n",
    "# metrics = MetricFunction.from_loads(REAL_LIFE_LOADS, nu=NU)\n",
    "\n",
    "REAL_LIFE_LOADS[\"plausibility\"] = None          \n",
    "\n",
    "metrics = MetricFunction.from_loads(REAL_LIFE_LOADS)"
   ]
  },
  {
   "cell_type": "code",
   "execution_count": 3,
   "id": "dfe6a4fd",
   "metadata": {},
   "outputs": [],
   "source": [
    "import math\n",
    "def test_all(designs):\n",
    "    objs = [] \n",
    "    evaluated_designs = []\n",
    "    for d in designs:\n",
    "        sub = SubstructureSimple.from_dict(d)\n",
    "        obj_values = np.array(metrics(sub)[0])\n",
    "        if any([math.isinf(x) for x in obj_values]):\n",
    "            print('This design cant be tested skipping:', d)\n",
    "            continue\n",
    "            # print('This design cant be tested in ops and thus got scores of 0.0:', d)\n",
    "            # obj_values[np.where(obj_values == 0.0)] = np.inf\n",
    "        objs.append(obj_values)\n",
    "        evaluated_designs.append(d)\n",
    "    return objs, evaluated_designs"
   ]
  },
  {
   "cell_type": "code",
   "execution_count": 4,
   "id": "af274239",
   "metadata": {},
   "outputs": [],
   "source": [
    "def to_df(objs):\n",
    "    # print(metrics.metric_names)\n",
    "    return pd.DataFrame(objs, columns=metrics.metric_names)"
   ]
  },
  {
   "cell_type": "code",
   "execution_count": 5,
   "id": "474b8c1c",
   "metadata": {},
   "outputs": [],
   "source": [
    "import os\n",
    "def evaluate(designs, file_path, out_dir):\n",
    "    objs, evaluated_designs = test_all(designs)\n",
    "    df = to_df(objs)\n",
    "    data_merged = [{**d, **df.loc[i]} for i, d in enumerate(evaluated_designs)]\n",
    "    filename = os.path.splitext(os.path.basename(file_path))[0]\n",
    "    output_filename = out_dir + filename +\"_evaluated.json\"\n",
    "    with open(output_filename, \"w\") as json_file:\n",
    "        json.dump(data_merged, json_file, indent=4)\n",
    "    print(\"Saved file\", output_filename, \"total designs\", len(evaluated_designs))    "
   ]
  },
  {
   "cell_type": "code",
   "execution_count": 6,
   "id": "1b90a05b",
   "metadata": {},
   "outputs": [
    {
     "name": "stdout",
     "output_type": "stream",
     "text": [
      "[]\n",
      "Saved file data/evaluated/real_structures_evaluated.json total designs 100\n"
     ]
    }
   ],
   "source": [
    "out_dir = \"data/evaluated/\"\n",
    "in_dir = \"data/to_evaluate/\"\n",
    "files = os.listdir(in_dir)\n",
    "out_files = os.listdir(out_dir)\n",
    "print(out_files)\n",
    "for file_ in files:\n",
    "    if file_.split(\".json\")[0] + \"_evaluated.json\" not in out_files:\n",
    "        with open(in_dir + file_) as f:\n",
    "            synthetic = json.load(f)\n",
    "            evaluate(synthetic, file_, out_dir)\n"
   ]
  }
 ],
 "metadata": {
  "kernelspec": {
   "display_name": "Python 3 (ipykernel)",
   "language": "python",
   "name": "python3"
  },
  "language_info": {
   "codemirror_mode": {
    "name": "ipython",
    "version": 3
   },
   "file_extension": ".py",
   "mimetype": "text/x-python",
   "name": "python",
   "nbconvert_exporter": "python",
   "pygments_lexer": "ipython3",
   "version": "3.11.5"
  },
  "vscode": {
   "interpreter": {
    "hash": "04310be0a2360f9faf748071eb3df6f9124d462a95d54515bae6b3425ab07e38"
   }
  }
 },
 "nbformat": 4,
 "nbformat_minor": 5
}
