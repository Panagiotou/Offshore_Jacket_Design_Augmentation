{
 "cells": [
  {
   "cell_type": "code",
   "execution_count": 1,
   "id": "4cce2a05",
   "metadata": {},
   "outputs": [],
   "source": [
    "import sys\n",
    "sys.path.append(\"..\")\n",
    "%matplotlib notebook"
   ]
  },
  {
   "cell_type": "code",
   "execution_count": 2,
   "id": "3412ef7c",
   "metadata": {},
   "outputs": [
    {
     "name": "stdout",
     "output_type": "stream",
     "text": [
      "{'NONE': 0, 'H': 1, 'Z': 2, 'IZ': 3, 'ZH': 4, 'IZH': 5, 'K': 6, 'X': 7, 'XH': 8}\n",
      "Dropped brace5 because of 0 var\n",
      "Dropped layer_height4 because of 0 var\n",
      "FAMD detected categorical columns Index(['legs', 'n_layers', 'brace0', 'brace1', 'brace2', 'brace3', 'brace4'], dtype='object')\n",
      "FAMD detected continuous columns Index(['total_height', 'radius_bottom', 'radius_top', 'layer_height0',\n",
      "       'layer_height1', 'layer_height2', 'layer_height3'],\n",
      "      dtype='object')\n",
      "FAMD detected categorical columns Index(['legs', 'n_layers', 'brace0', 'brace1', 'brace2', 'brace3', 'brace4'], dtype='object')\n",
      "FAMD detected continuous columns Index(['total_height', 'radius_bottom', 'radius_top', 'layer_height0',\n",
      "       'layer_height1', 'layer_height2', 'layer_height3'],\n",
      "      dtype='object')\n",
      "MCA PROCESS ELIMINATED 5  COLUMNS SINCE THEIR MISS_RATES >= 99%\n"
     ]
    },
    {
     "name": "stderr",
     "output_type": "stream",
     "text": [
      "/home/panagiotou/Desktop/Kallikrates/venv/lib/python3.10/site-packages/sklearn/preprocessing/_encoders.py:868: FutureWarning: `sparse` was renamed to `sparse_output` in version 1.2 and will be removed in 1.4. `sparse_output` is ignored unless you leave `sparse` to its default value.\n",
      "  warnings.warn(\n"
     ]
    }
   ],
   "source": [
    "from graphstructure.sample import SimpleConstraints\n",
    "from graphstructure.algorithm import run_algorithm, PlotCallback, PrintCallback\n",
    "from graphstructure.app_interface import AlgorithmWrapper, RunSettings\n",
    "from graphstructure.metrics import REAL_LIFE_LOADS\n",
    "import json"
   ]
  },
  {
   "cell_type": "code",
   "execution_count": 3,
   "id": "2c5a461f",
   "metadata": {},
   "outputs": [],
   "source": [
    "def print_greater_number():\n",
    "    if not hasattr(print_greater_number, 'prev_number'):\n",
    "        print_greater_number.prev_number = -1\n",
    "\n",
    "    n = print_greater_number.prev_number + 1\n",
    "    print(n)\n",
    "    print_greater_number.prev_number = n"
   ]
  },
  {
   "cell_type": "code",
   "execution_count": 4,
   "id": "c3be86ff",
   "metadata": {},
   "outputs": [
    {
     "name": "stdout",
     "output_type": "stream",
     "text": [
      "{'compression': 6835000.0, 'tipover': 16640.0, 'torque': 100000.0}\n"
     ]
    }
   ],
   "source": [
    "print(REAL_LIFE_LOADS)"
   ]
  },
  {
   "cell_type": "code",
   "execution_count": 12,
   "id": "cad597f5",
   "metadata": {},
   "outputs": [],
   "source": [
    "# using default constraints here for simplicity\n",
    "constraints = SimpleConstraints(total_height=(17, 95), radius_bottom=(9, 29), radius_top=(2, 18), legs=(3, 4), n_layers=(2, 6))\n",
    "probs = {\"mutation\": 0.2, \"crossover\": 0.8}\n",
    "REAL_LIFE_LOADS[\"plausibility\"] = 'FAMD GMM'\n",
    "n_gen = 3"
   ]
  },
  {
   "cell_type": "code",
   "execution_count": 14,
   "id": "2d126ffc",
   "metadata": {},
   "outputs": [
    {
     "name": "stdout",
     "output_type": "stream",
     "text": [
      "Processing population = 100\n",
      "Running with objectives: ['Cost', 'plausibility (FAMD GMM)', 'wave', 'combined', 'compression', 'tipover', 'torque']\n",
      "Generation 1\n",
      "Generation 2\n",
      "Generation 3\n",
      "Done population 100  time  9.219138622283936\n"
     ]
    }
   ],
   "source": [
    "import time\n",
    "import numpy as np\n",
    "import matplotlib.pyplot as plt\n",
    "\n",
    "# Initialize lists to store results\n",
    "target_values = range(100, 101, 100)\n",
    "execution_times = []\n",
    "\n",
    "for n_pop in target_values:\n",
    "    times_for_target = []\n",
    "    print(f\"Processing population = {n_pop}\")\n",
    "    start_time = time.time()\n",
    "\n",
    "    # prepare the algorithm run\n",
    "    run_settings = RunSettings(population=n_pop, generations=n_gen, objectives=REAL_LIFE_LOADS,\n",
    "                            constraints=constraints, combine_stabilities=False, probabilities=probs)\n",
    "    alg_wrapper = AlgorithmWrapper(run_settings)\n",
    "    alg_wrapper.setup()\n",
    "    cb = PrintCallback()\n",
    "\n",
    "    result = alg_wrapper.run(cb)\n",
    "\n",
    "    end_time = time.time()\n",
    "    execution_time = end_time - start_time\n",
    "    print(\"Done population\", n_pop, \" time \", execution_time)\n",
    "    execution_times.append(execution_time)\n"
   ]
  },
  {
   "cell_type": "code",
   "execution_count": 15,
   "id": "7ef91767",
   "metadata": {},
   "outputs": [],
   "source": [
    "# Save results to a file\n",
    "with open('execution_times.txt', 'w') as f:\n",
    "    for target_nb_pseudo_obs, mean_time in zip(target_values, execution_times):\n",
    "        f.write(f'Target obs: {target_nb_pseudo_obs}, Mean Time: {mean_time:.4f}\\n')\n",
    "\n"
   ]
  }
 ],
 "metadata": {
  "kernelspec": {
   "display_name": "Python 3 (ipykernel)",
   "language": "python",
   "name": "python3"
  },
  "language_info": {
   "codemirror_mode": {
    "name": "ipython",
    "version": 3
   },
   "file_extension": ".py",
   "mimetype": "text/x-python",
   "name": "python",
   "nbconvert_exporter": "python",
   "pygments_lexer": "ipython3",
   "version": "3.10.7"
  }
 },
 "nbformat": 4,
 "nbformat_minor": 5
}
